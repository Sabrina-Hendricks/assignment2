{
  "cells": [
    {
      "cell_type": "markdown",
      "id": "13ad028b-72b7-43ed-aa78-96fd4e518040",
      "metadata": {
        "id": "13ad028b-72b7-43ed-aa78-96fd4e518040"
      },
      "source": [
        "# Assignment: Data Wrangling and Exploratory Data Analysis\n",
        "## Do Q1 and Q2, and one other question.\n",
        "`! git clone https://www.github.com/DS3001/assignment2`"
      ]
    },
    {
      "cell_type": "code",
      "source": [
        "! git clone https://www.github.com/DS3001/assignment2"
      ],
      "metadata": {
        "id": "sh0H5sEC9ah6",
        "outputId": "b8852ee3-5203-4de7-a409-bc4fe40deed7",
        "colab": {
          "base_uri": "https://localhost:8080/"
        }
      },
      "id": "sh0H5sEC9ah6",
      "execution_count": 2,
      "outputs": [
        {
          "output_type": "stream",
          "name": "stdout",
          "text": [
            "fatal: destination path 'assignment2' already exists and is not an empty directory.\n"
          ]
        }
      ]
    },
    {
      "cell_type": "markdown",
      "id": "5735a4d4-8be8-433a-a351-70eb8002e632",
      "metadata": {
        "id": "5735a4d4-8be8-433a-a351-70eb8002e632"
      },
      "source": [
        "**Q1.** Open the \"tidy_data.pdf\" document in the repo, which is a paper called Tidy Data by Hadley Wickham.\n",
        "\n",
        "  1. Read the abstract. What is this paper about?\n",
        "  2. Read the introduction. What is the \"tidy data standard\" intended to accomplish?\n",
        "  3. Read the intro to section 2. What does this sentence mean: \"Like families, tidy datasets are all alike but every messy dataset is messy in its own way.\" What does this sentence mean: \"For a given dataset, it’s usually easy to figure out what are observations and what are variables, but it is surprisingly difficult to precisely define variables and observations in general.\"\n",
        "  4. Read Section 2.2. How does Wickham define values, variables, and observations?\n",
        "  5. How is \"Tidy Data\" defined in section 2.3?\n",
        "  6. Read the intro to Section 3 and Section 3.1. What are the 5 most common problems with messy datasets? Why are the data in Table 4 messy? What is \"melting\" a dataset?\n",
        "  7. Why, specifically, is table 11 messy but table 12 tidy and \"molten\"?\n",
        "  8. Read Section 6. What is the \"chicken-and-egg\" problem with focusing on tidy data? What does Wickham hope happens in the future with further work on the subject of data wrangling?"
      ]
    },
    {
      "cell_type": "markdown",
      "source": [
        "1. This paper is about data tidying--making data clean and effective. It demonstrates the advantages of having these structured and clean datasets with an interesting case study.\n",
        "2. The \"tidy data standard\" is intended to make initial exploration and analysis of a dataset smoother and easier, while also allowing other data analysis tools to work well together.\n",
        "3. The first sentence means that tidy datasets have a stucture they all follow whereas messy sets do not...that's why they're messy. The second sentence discusses how when looking at a specific dataset, you can pick out what are supposed to be observations and variables. However, these terms can be subjective because it's hard to define them when not focusing on a specific example of a dataset.\n",
        "4. Values are numbers, if quantitative, and strings, if qualitative. A variable contains all values that measure the same underlying attribute across units. Observations contain all values measured on the same unit across attributes.\n",
        "5. \"Tidy Data\" is a standard way of mapping the meaning of a dataset to its structure.\n",
        "6. The 5 most common problems with messy datasets are:\n",
        "  - Column headers are values, not variable names.\n",
        "  - Multiple variables are stored in one column.\n",
        "  - Variables are stored in both rows and columns.\n",
        "  - Multiple types of observational units are stored in the same table.\n",
        "  - A single observational unit is stored in multiple tables.\n",
        "- The data in Table 4 are messy because the variables\n",
        "form both the rows and columns, and the column headers are values, not variable names. \"Melting\" a dataset is turning its columns into rows.\n",
        "7. Table 11 is messy because there is a column for every possible day in the month. Table 12 (a) is \"molten\" because each row now represents the meteorological measurements for a single day. Table 12 (b) is tidy because the element column was fixed from (a) to contain values and not names of variables. Now there are two measured\n",
        "variables, minimum (tmin) and maximum (tmax) temperature.\n",
        "8. The \"chicken and the egg\" problem with focusing on tidy data is that tidy data is only as useful as the tools that work with it, so then tidy tools with data cleaning won't improve workflow. He hopes that in the future, he hopes to further understand the cognitve aspect of data wrangling and to continue building useful tools. Specifically, he hopes more work is done with multidimensional arrays, optimizing memory and efficiency, and generally developing other frameworks to make all of data wrangling easier."
      ],
      "metadata": {
        "id": "UGddkNu-8_f1"
      },
      "id": "UGddkNu-8_f1"
    },
    {
      "cell_type": "markdown",
      "id": "da879ea7-8aac-48a3-b6c2-daea56d2e072",
      "metadata": {
        "id": "da879ea7-8aac-48a3-b6c2-daea56d2e072"
      },
      "source": [
        "**Q2.** This question provides some practice cleaning variables which have common problems.\n",
        "1. Numeric variable: For `./data/airbnb_hw.csv`, clean the `Price` variable as well as you can, and explain the choices you make. How many missing values do you end up with? (Hint: What happens to the formatting when a price goes over 999 dollars, say from 675 to 1,112?)\n",
        "2. Categorical variable: For the `./data/sharks.csv` data covered in the lecture, clean the \"Type\" variable as well as you can, and explain the choices you make.\n",
        "3. Dummy variable: For the pretrial data covered in the lecture, clean the `WhetherDefendantWasReleasedPretrial` variable as well as you can, and, in particular, replace missing values with `np.nan`.\n",
        "4. Missing values, not at random: For the pretrial data covered in the lecture, clean the `ImposedSentenceAllChargeInContactEvent` variable as well as you can, and explain the choices you make. (Hint: Look at the `SentenceTypeAllChargesAtConvictionInContactEvent` variable.)"
      ]
    },
    {
      "cell_type": "markdown",
      "source": [
        "2.1 code and explanations below, I ended up with 0 missing values."
      ],
      "metadata": {
        "id": "CNvihjFBOFvT"
      },
      "id": "CNvihjFBOFvT"
    },
    {
      "cell_type": "code",
      "source": [
        "import numpy as np\n",
        "import pandas as pd"
      ],
      "metadata": {
        "id": "chw9A9IFOAYl"
      },
      "id": "chw9A9IFOAYl",
      "execution_count": 4,
      "outputs": []
    },
    {
      "cell_type": "code",
      "source": [
        "df = pd.read_csv('./assignment2/data/airbnb_hw.csv')\n",
        "print(df.dtypes, '\\n')"
      ],
      "metadata": {
        "id": "x8EiCIHvOMGr",
        "outputId": "9e35b6d9-23f1-4d9d-aa75-136fa786602e",
        "colab": {
          "base_uri": "https://localhost:8080/"
        }
      },
      "id": "x8EiCIHvOMGr",
      "execution_count": 5,
      "outputs": [
        {
          "output_type": "stream",
          "name": "stdout",
          "text": [
            "Host Id                         int64\n",
            "Host Since                     object\n",
            "Name                           object\n",
            "Neighbourhood                  object\n",
            "Property Type                  object\n",
            "Review Scores Rating (bin)    float64\n",
            "Room Type                      object\n",
            "Zipcode                       float64\n",
            "Beds                          float64\n",
            "Number of Records               int64\n",
            "Number Of Reviews               int64\n",
            "Price                          object\n",
            "Review Scores Rating          float64\n",
            "dtype: object \n",
            "\n"
          ]
        }
      ]
    },
    {
      "cell_type": "code",
      "source": [
        "#Since price is an object, I am assuming this is because of the commas that sometimes appear in a price.\n",
        "#I am going to use str.replace with a regular expression that looks for commas to get rid of these\n",
        "\n",
        "df['Price'] = df['Price'].str.replace(r'[,]', '', regex=True)"
      ],
      "metadata": {
        "id": "yTeYYRaqOQLm"
      },
      "id": "yTeYYRaqOQLm",
      "execution_count": 6,
      "outputs": []
    },
    {
      "cell_type": "code",
      "source": [
        "#Converting the price column to an int to match the other data types above\n",
        "df['Price'] = df['Price'].astype('int64')\n",
        "\n",
        "#Count how many values are missing from this column\n",
        "df['Price'].isna().sum()"
      ],
      "metadata": {
        "id": "Y5IUstfQOTlV",
        "outputId": "460e5eeb-dcd1-4a5f-f488-c7b6bd4ff1b9",
        "colab": {
          "base_uri": "https://localhost:8080/"
        }
      },
      "id": "Y5IUstfQOTlV",
      "execution_count": 7,
      "outputs": [
        {
          "output_type": "execute_result",
          "data": {
            "text/plain": [
              "0"
            ]
          },
          "metadata": {},
          "execution_count": 7
        }
      ]
    },
    {
      "cell_type": "markdown",
      "source": [
        "2.2 code and explanations below."
      ],
      "metadata": {
        "id": "QmotCSvVOX1R"
      },
      "id": "QmotCSvVOX1R"
    },
    {
      "cell_type": "code",
      "source": [
        "sharks = pd.read_csv('./assignment2/data/sharks.csv', low_memory=False)\n",
        "\n",
        "#Generally looking at data types\n",
        "print(sharks.dtypes, '\\n')"
      ],
      "metadata": {
        "id": "uoIgFed7Oe3v",
        "outputId": "9da37d4b-54bf-4ee8-89c9-3cf1d136e793",
        "colab": {
          "base_uri": "https://localhost:8080/"
        }
      },
      "id": "uoIgFed7Oe3v",
      "execution_count": 8,
      "outputs": [
        {
          "output_type": "stream",
          "name": "stdout",
          "text": [
            "index             int64\n",
            "Case Number      object\n",
            "Date             object\n",
            "Year            float64\n",
            "Type             object\n",
            "                 ...   \n",
            "Unnamed: 251    float64\n",
            "Unnamed: 252    float64\n",
            "Unnamed: 253    float64\n",
            "Unnamed: 254    float64\n",
            "Unnamed: 255    float64\n",
            "Length: 257, dtype: object \n",
            "\n"
          ]
        }
      ]
    },
    {
      "cell_type": "code",
      "source": [
        "#looking at what kinds of values are in Type column\n",
        "print(sharks['Type'].unique(), '\\n')"
      ],
      "metadata": {
        "id": "mtRd139yOjto",
        "outputId": "a1bf0013-7f0d-4ce9-fd7b-a500b56cc3b5",
        "colab": {
          "base_uri": "https://localhost:8080/"
        }
      },
      "id": "mtRd139yOjto",
      "execution_count": 9,
      "outputs": [
        {
          "output_type": "stream",
          "name": "stdout",
          "text": [
            "['Unprovoked' 'Provoked' 'Questionable' 'Watercraft' 'Unconfirmed'\n",
            " 'Unverified' 'Invalid' 'Under investigation' 'Boating' 'Sea Disaster' nan\n",
            " 'Boat' 'Boatomg'] \n",
            "\n"
          ]
        }
      ]
    },
    {
      "cell_type": "code",
      "source": [
        "#I am fixing the nan values with an 'Unknown' so they are all the same data type\n",
        "sharks['Type'].fillna('Unknown', inplace=True)"
      ],
      "metadata": {
        "id": "Ey8NBWlPOmdL"
      },
      "id": "Ey8NBWlPOmdL",
      "execution_count": 10,
      "outputs": []
    },
    {
      "cell_type": "code",
      "source": [
        "#I am making it so that boating types of incidences are all the same... watercraft/boating/boat should be the same\n",
        "sharks['Type'] = sharks['Type'].replace({\n",
        "    'Boatomg': 'Boating',\n",
        "    'Watercraft': 'Boating',  # Combine similar categories\n",
        "    'Boat': 'Boating'\n",
        "})"
      ],
      "metadata": {
        "id": "-YwhKkZBOpu8"
      },
      "id": "-YwhKkZBOpu8",
      "execution_count": 11,
      "outputs": []
    },
    {
      "cell_type": "markdown",
      "source": [
        "2.3 code and explanations below"
      ],
      "metadata": {
        "id": "EGFc0Z8OOrS4"
      },
      "id": "EGFc0Z8OOrS4"
    },
    {
      "cell_type": "code",
      "source": [
        "pretrial = pd.read_csv('./assignment2/data/VirginiaPretrialData2017.csv', low_memory=False)\n",
        "\n",
        "#looking at what kinds of values are in the WhetherDefendantWasReleasedPretrial column\n",
        "print(pretrial['WhetherDefendantWasReleasedPretrial'].unique(), '\\n')"
      ],
      "metadata": {
        "id": "2tf_dYNiOuWl",
        "outputId": "2aa9cd1f-529a-4fbb-8b68-7233a59e25a2",
        "colab": {
          "base_uri": "https://localhost:8080/"
        }
      },
      "id": "2tf_dYNiOuWl",
      "execution_count": 13,
      "outputs": [
        {
          "output_type": "stream",
          "name": "stdout",
          "text": [
            "[9 0 1] \n",
            "\n"
          ]
        }
      ]
    },
    {
      "cell_type": "code",
      "source": [
        "#Based on the codebook from lecture,\n",
        "#code 9 means that there is insufficient/missing information\n",
        "#code 1 means held without bond\n",
        "#I am assuming code 0 means they were released pretrial, since that would be the opposite of being held without bond.\n",
        "#Therefore, I am going to replace 9s with nans\n",
        "\n",
        "pretrial['WhetherDefendantWasReleasedPretrial'] = pretrial['WhetherDefendantWasReleasedPretrial'].replace( [9], np.nan)"
      ],
      "metadata": {
        "id": "f-ZJ_wS_Ovue"
      },
      "id": "f-ZJ_wS_Ovue",
      "execution_count": 14,
      "outputs": []
    },
    {
      "cell_type": "markdown",
      "source": [
        "2.4 code and explanations below:"
      ],
      "metadata": {
        "id": "S1ACoxHjPBcq"
      },
      "id": "S1ACoxHjPBcq"
    },
    {
      "cell_type": "code",
      "source": [
        "#Gathering an idea of what both columns are (STOPPED HERE)\n",
        "print(pretrial['ImposedSentenceAllChargeInContactEvent'].unique(), '\\n')"
      ],
      "metadata": {
        "id": "k9VOsH6OOxet"
      },
      "id": "k9VOsH6OOxet",
      "execution_count": null,
      "outputs": []
    },
    {
      "cell_type": "code",
      "source": [
        "print(pretrial['SentenceTypeAllChargesAtConvictionInContactEvent'].unique(), '\\n')"
      ],
      "metadata": {
        "id": "bKYa5kGGPFKl",
        "outputId": "7aeb6980-d298-47d9-f519-59dff10fd4fb",
        "colab": {
          "base_uri": "https://localhost:8080/"
        }
      },
      "id": "bKYa5kGGPFKl",
      "execution_count": 17,
      "outputs": [
        {
          "output_type": "stream",
          "name": "stdout",
          "text": [
            "[9 0 1 4 2] \n",
            "\n"
          ]
        }
      ]
    },
    {
      "cell_type": "markdown",
      "id": "c11bcd96-2834-41a4-80fe-d354b4277fd9",
      "metadata": {
        "id": "c11bcd96-2834-41a4-80fe-d354b4277fd9"
      },
      "source": [
        "**Q3.** This question provides some practice doing exploratory data analysis and visualization.\n",
        "\n",
        "The \"relevant\" variables for this question are:\n",
        "  - `level` - Level of institution (4-year, 2-year)\n",
        "  - `aid_value` - The average amount of student aid going to undergraduate recipients\n",
        "  - `control` - Public, Private not-for-profit, Private for-profit\n",
        "  - `grad_100_value` - percentage of first-time, full-time, degree-seeking undergraduates who complete a degree or certificate program within 100 percent of expected time (bachelor's-seeking group at 4-year institutions)\n",
        "\n",
        "1. Load the `./data/college_completion.csv` data with Pandas.\n",
        "2. What are are the dimensions of the data? How many observations are there? What are the variables included? Use `.head()` to examine the first few rows of data.\n",
        "3. Cross tabulate `control` and `level`. Describe the patterns you see.\n",
        "4. For `grad_100_value`, create a histogram, kernel density plot, boxplot, and statistical description.\n",
        "5. For `grad_100_value`, create a grouped kernel density plot by `control` and by `level`. Describe what you see. Use `groupby` and `.describe` to make grouped calculations of statistical descriptions of `grad_100_value` by `level` and `control`. Which institutions appear to have the best graduation rates?\n",
        "6. Create a new variable, `df['levelXcontrol']=df['level']+', '+df['control']` that interacts level and control. Make a grouped kernel density plot. Which institutions appear to have the best graduation rates?\n",
        "7. Make a kernel density plot of `aid_value`. Notice that your graph is \"bi-modal\", having two little peaks that represent locally most common values. Now group your graph by `level` and `control`. What explains the bi-modal nature of the graph? Use `groupby` and `.describe` to make grouped calculations of statistical descriptions of `aid_value` by `level` and `control`.\n",
        "8. Make a scatterplot of `grad_100_value` by `aid_value`. Describe what you see. Now make the same plot, grouping by `level` and then `control`. Describe what you see. For which kinds of institutions does aid seem to increase graduation rates?"
      ]
    },
    {
      "cell_type": "markdown",
      "id": "98d34a3b-c21d-4dc9-a8d2-fb7686804ceb",
      "metadata": {
        "id": "98d34a3b-c21d-4dc9-a8d2-fb7686804ceb"
      },
      "source": [
        "**Q4.** This question uses the Airbnb data to practice making visualizations.\n",
        "\n",
        "  1. Load the `./data/airbnb_hw.csv` data with Pandas. You should have cleaned the `Price` variable in question 2, and you'll need it later for this question.\n",
        "  2. What are are the dimensions of the data? How many observations are there? What are the variables included? Use `.head()` to examine the first few rows of data.\n",
        "  3. Cross tabulate `Room Type` and `Property Type`. What patterns do you see in what kinds of rentals are available? For which kinds of properties are private rooms more common than renting the entire property?\n",
        "  4. For `Price`, make a histogram, kernel density, box plot, and a statistical description of the variable. Are the data badly scaled? Are there many outliers? Use `log` to transform price into a new variable, `price_log`, and take these steps again.\n",
        "  5. Make a scatterplot of `price_log` and `Beds`. Describe what you see. Use `.groupby()` to compute a desciption of `Price` conditional on/grouped by the number of beds. Describe any patterns you see in the average price and standard deviation in prices.\n",
        "  6. Make a scatterplot of `price_log` and `Beds`, but color the graph by `Room Type` and `Property Type`. What patterns do you see? Compute a description of `Price` conditional on `Room Type` and `Property Type`. Which Room Type and Property Type have the highest prices on average? Which have the highest standard deviation? Does the mean or median appear to be a more reliable estimate of central tendency, and explain why?\n",
        "  7. We've looked a bit at this `price_log` and `Beds` scatterplot. Use seaborn to make a `jointplot` with `kind=hex`. Where are the data actually distributed? How does it affect the way you think about the plots in 5 and 6?"
      ]
    },
    {
      "cell_type": "markdown",
      "id": "649494cd-cfd6-4f80-992a-9994fc19e1d5",
      "metadata": {
        "id": "649494cd-cfd6-4f80-992a-9994fc19e1d5"
      },
      "source": [
        "**Q5.** Many important datasets contain a race variable, typically limited to a handful of values often including Black, White, Asian, Latino, and Indigenous. This question looks at data gathering efforts on this variable by the U.S. Federal government.\n",
        "\n",
        "1. How did the most recent US Census gather data on race?\n",
        "2. Why do we gather these data? What role do these kinds of data play in politics and society? Why does data quality matter?\n",
        "3. Please provide a constructive criticism of how the Census was conducted: What was done well? What do you think was missing? How should future large scale surveys be adjusted to best reflect the diversity of the population? Could some of the Census' good practices be adopted more widely to gather richer and more useful data?\n",
        "4. How did the Census gather data on sex and gender? Please provide a similar constructive criticism of their practices.\n",
        "5. When it comes to cleaning data, what concerns do you have about protected characteristics like sex, gender, sexual identity, or race? What challenges can you imagine arising when there are missing values? What good or bad practices might people adopt, and why?\n",
        "6. Suppose someone invented an algorithm to impute values for protected characteristics like race, gender, sex, or sexuality. What kinds of concerns would you have?"
      ]
    },
    {
      "cell_type": "markdown",
      "id": "2f38f2fd-6381-481d-bba9-017f3d363426",
      "metadata": {
        "id": "2f38f2fd-6381-481d-bba9-017f3d363426"
      },
      "source": [
        "**Q6.** Open the `./data/CBO_data.pdf` file. This contains tax data for 2019, explaining where the money comes from that the U.S. Federal Government Spends in terms of taxation on individuals/families and payroll taxes (the amount that your employer pays in taxes on your wages).\n",
        "\n",
        "For some context, the Federal government ultimately spent about $4.4 trillion in 2019, which was 21% of GDP (the total monetary value of all goods and services produced within the United States). Individual Income Taxes is the amount individuals pay on their wages to the Federal government, Corporate Income Taxes is the taxes individuals pay on capital gains from investment when they sell stock or other financial instruments, Payroll Taxes is the tax your employer pays on your wages, Excises and Customs Duties are taxes on goods or services like sin taxes on cigarettes or alcohol, and Estate and Gift Taxes are taxes paid on transfers of wealth to other people.\n",
        "\n",
        "1. Get the Millions of Families and Billions of Dollars data into a .csv file and load it with Pandas.\n",
        "2. Create a bar plot of individual income taxes by income decile. Explain what the graph shows. Why are some values negative?\n",
        "3. Create a bar plot of Total Federal Taxes by income decile. Which deciles are paying net positive amounts, and which are paying net negative amounts?\n",
        "4. Create a stacked bar plot for which Total Federal Taxes is grouped by Individual Income Taxes, Payroll Taxes, Excises and Customs Duties, and Estate and Gift Taxes. How does the share of taxes paid vary across the adjusted income deciles? (Hint: Are these the kind of data you want to melt?)\n",
        "5. Below the Total line for Millions of Families and Billions of Dollars, there are data for the richest of the richest families. Plot this alongside the bars for the deciles above the Total line. Describe your results.\n",
        "6. Get the Percent Distribution data into a .csv file and load it with Pandas. Create a bar graph of Total Federal Taxes by income decile.\n",
        "7. A tax system is progressive if higher-income and wealthier individuals pay more than lower-income and less wealthy individuals, and it is regressive if the opposite is true. Is the U.S. tax system progressive in terms of amount paid? In terms of the percentage of the overall total?\n",
        "8. Do the rich pay enough in taxes? Defend your answer."
      ]
    }
  ],
  "metadata": {
    "kernelspec": {
      "display_name": "Python 3 (ipykernel)",
      "language": "python",
      "name": "python3"
    },
    "language_info": {
      "codemirror_mode": {
        "name": "ipython",
        "version": 3
      },
      "file_extension": ".py",
      "mimetype": "text/x-python",
      "name": "python",
      "nbconvert_exporter": "python",
      "pygments_lexer": "ipython3",
      "version": "3.10.4"
    },
    "colab": {
      "provenance": []
    }
  },
  "nbformat": 4,
  "nbformat_minor": 5
}