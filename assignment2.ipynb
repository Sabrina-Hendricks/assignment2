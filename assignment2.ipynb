{
  "cells": [
    {
      "cell_type": "markdown",
      "id": "13ad028b-72b7-43ed-aa78-96fd4e518040",
      "metadata": {
        "id": "13ad028b-72b7-43ed-aa78-96fd4e518040"
      },
      "source": [
        "# Assignment: Data Wrangling and Exploratory Data Analysis\n",
        "## Do Q1 and Q2, and one other question.\n",
        "`! git clone https://www.github.com/DS3001/assignment2`"
      ]
    },
    {
      "cell_type": "code",
      "source": [
        "! git clone https://www.github.com/DS3001/assignment2"
      ],
      "metadata": {
        "colab": {
          "base_uri": "https://localhost:8080/"
        },
        "id": "sh0H5sEC9ah6",
        "outputId": "f30b23e7-208d-4d4a-8223-42439a9d54fe"
      },
      "id": "sh0H5sEC9ah6",
      "execution_count": null,
      "outputs": [
        {
          "output_type": "stream",
          "name": "stdout",
          "text": [
            "Cloning into 'assignment2'...\n",
            "warning: redirecting to https://github.com/DS3001/assignment2.git/\n",
            "remote: Enumerating objects: 36, done.\u001b[K\n",
            "remote: Counting objects: 100% (12/12), done.\u001b[K\n",
            "remote: Compressing objects: 100% (7/7), done.\u001b[K\n",
            "remote: Total 36 (delta 8), reused 5 (delta 5), pack-reused 24\u001b[K\n",
            "Receiving objects: 100% (36/36), 5.47 MiB | 15.86 MiB/s, done.\n",
            "Resolving deltas: 100% (9/9), done.\n"
          ]
        }
      ]
    },
    {
      "cell_type": "markdown",
      "id": "5735a4d4-8be8-433a-a351-70eb8002e632",
      "metadata": {
        "id": "5735a4d4-8be8-433a-a351-70eb8002e632"
      },
      "source": [
        "**Q1.** Open the \"tidy_data.pdf\" document in the repo, which is a paper called Tidy Data by Hadley Wickham.\n",
        "\n",
        "  1. Read the abstract. What is this paper about?\n",
        "  2. Read the introduction. What is the \"tidy data standard\" intended to accomplish?\n",
        "  3. Read the intro to section 2. What does this sentence mean: \"Like families, tidy datasets are all alike but every messy dataset is messy in its own way.\" What does this sentence mean: \"For a given dataset, it’s usually easy to figure out what are observations and what are variables, but it is surprisingly difficult to precisely define variables and observations in general.\"\n",
        "  4. Read Section 2.2. How does Wickham define values, variables, and observations?\n",
        "  5. How is \"Tidy Data\" defined in section 2.3?\n",
        "  6. Read the intro to Section 3 and Section 3.1. What are the 5 most common problems with messy datasets? Why are the data in Table 4 messy? What is \"melting\" a dataset?\n",
        "  7. Why, specifically, is table 11 messy but table 12 tidy and \"molten\"?\n",
        "  8. Read Section 6. What is the \"chicken-and-egg\" problem with focusing on tidy data? What does Wickham hope happens in the future with further work on the subject of data wrangling?"
      ]
    },
    {
      "cell_type": "markdown",
      "source": [
        "1. This paper is about data tidying--making data clean and effective. It demonstrates the advantages of having these structured and clean datasets with an interesting case study.\n",
        "2. The \"tidy data standard\" is intended to make initial exploration and analysis of a dataset smoother and easier, while also allowing other data analysis tools to work well together.\n",
        "3. The first sentence means that tidy datasets have a stucture they all follow whereas messy sets do not...that's why they're messy. The second sentence discusses how when looking at a specific dataset, you can pick out what are supposed to be observations and variables. However, these terms can be subjective because it's hard to define them when not focusing on a specific example of a dataset.\n",
        "4. Values are numbers, if quantitative, and strings, if qualitative. A variable contains all values that measure the same underlying attribute across units. Observations contain all values measured on the same unit across attributes.\n",
        "5. \"Tidy Data\" is a standard way of mapping the meaning of a dataset to its structure.\n",
        "6. The 5 most common problems with messy datasets are:\n",
        "  - Column headers are values, not variable names.\n",
        "  - Multiple variables are stored in one column.\n",
        "  - Variables are stored in both rows and columns.\n",
        "  - Multiple types of observational units are stored in the same table.\n",
        "  - A single observational unit is stored in multiple tables.\n",
        "- The data in Table 4 are messy because the variables\n",
        "form both the rows and columns, and the column headers are values, not variable names. \"Melting\" a dataset is turning its columns into rows.\n",
        "7. Table 11 is messy because there is a column for every possible day in the month. Table 12 (a) is \"molten\" because each row now represents the meteorological measurements for a single day. Table 12 (b) is tidy because the element column was fixed from (a) to contain values and not names of variables. Now there are two measured\n",
        "variables, minimum (tmin) and maximum (tmax) temperature.\n",
        "8. The \"chicken and the egg\" problem with focusing on tidy data is that tidy data is only as useful as the tools that work with it, so then tidy tools with data cleaning won't improve workflow. He hopes that in the future, he hopes to further understand the cognitve aspect of data wrangling and to continue building useful tools. Specifically, he hopes more work is done with multidimensional arrays, optimizing memory and efficiency, and generally developing other frameworks to make all of data wrangling easier."
      ],
      "metadata": {
        "id": "UGddkNu-8_f1"
      },
      "id": "UGddkNu-8_f1"
    },
    {
      "cell_type": "markdown",
      "id": "da879ea7-8aac-48a3-b6c2-daea56d2e072",
      "metadata": {
        "id": "da879ea7-8aac-48a3-b6c2-daea56d2e072"
      },
      "source": [
        "**Q2.** This question provides some practice cleaning variables which have common problems.\n",
        "1. Numeric variable: For `./data/airbnb_hw.csv`, clean the `Price` variable as well as you can, and explain the choices you make. How many missing values do you end up with? (Hint: What happens to the formatting when a price goes over 999 dollars, say from 675 to 1,112?)\n",
        "2. Categorical variable: For the `./data/sharks.csv` data covered in the lecture, clean the \"Type\" variable as well as you can, and explain the choices you make.\n",
        "3. Dummy variable: For the pretrial data covered in the lecture, clean the `WhetherDefendantWasReleasedPretrial` variable as well as you can, and, in particular, replace missing values with `np.nan`.\n",
        "4. Missing values, not at random: For the pretrial data covered in the lecture, clean the `ImposedSentenceAllChargeInContactEvent` variable as well as you can, and explain the choices you make. (Hint: Look at the `SentenceTypeAllChargesAtConvictionInContactEvent` variable.)"
      ]
    },
    {
      "cell_type": "markdown",
      "source": [
        "2.1 code and explanations below, I ended up with 0 missing values."
      ],
      "metadata": {
        "id": "CNvihjFBOFvT"
      },
      "id": "CNvihjFBOFvT"
    },
    {
      "cell_type": "code",
      "source": [
        "import numpy as np\n",
        "import pandas as pd"
      ],
      "metadata": {
        "id": "chw9A9IFOAYl"
      },
      "id": "chw9A9IFOAYl",
      "execution_count": null,
      "outputs": []
    },
    {
      "cell_type": "code",
      "source": [
        "df = pd.read_csv('./assignment2/data/airbnb_hw.csv')\n",
        "print(df.dtypes, '\\n')"
      ],
      "metadata": {
        "colab": {
          "base_uri": "https://localhost:8080/"
        },
        "id": "x8EiCIHvOMGr",
        "outputId": "5414b716-2b0c-4022-fbcb-3694e6aef931"
      },
      "id": "x8EiCIHvOMGr",
      "execution_count": null,
      "outputs": [
        {
          "output_type": "stream",
          "name": "stdout",
          "text": [
            "Host Id                         int64\n",
            "Host Since                     object\n",
            "Name                           object\n",
            "Neighbourhood                  object\n",
            "Property Type                  object\n",
            "Review Scores Rating (bin)    float64\n",
            "Room Type                      object\n",
            "Zipcode                       float64\n",
            "Beds                          float64\n",
            "Number of Records               int64\n",
            "Number Of Reviews               int64\n",
            "Price                          object\n",
            "Review Scores Rating          float64\n",
            "dtype: object \n",
            "\n"
          ]
        }
      ]
    },
    {
      "cell_type": "code",
      "source": [
        "#Since price is an object, I am assuming this is because of the commas that sometimes appear in a price.\n",
        "#I am going to use str.replace with a regular expression that looks for commas to get rid of these\n",
        "\n",
        "df['Price'] = df['Price'].str.replace(r'[,]', '', regex=True)"
      ],
      "metadata": {
        "id": "yTeYYRaqOQLm"
      },
      "id": "yTeYYRaqOQLm",
      "execution_count": null,
      "outputs": []
    },
    {
      "cell_type": "code",
      "source": [
        "#Converting the price column to an int to match the other data types above\n",
        "df['Price'] = df['Price'].astype('int64')\n",
        "\n",
        "#Count how many values are missing from this column\n",
        "df['Price'].isna().sum()"
      ],
      "metadata": {
        "colab": {
          "base_uri": "https://localhost:8080/"
        },
        "id": "Y5IUstfQOTlV",
        "outputId": "cdd1fe87-1a48-48d6-cea4-9fbbee5eea5f"
      },
      "id": "Y5IUstfQOTlV",
      "execution_count": null,
      "outputs": [
        {
          "output_type": "execute_result",
          "data": {
            "text/plain": [
              "0"
            ]
          },
          "metadata": {},
          "execution_count": 9
        }
      ]
    },
    {
      "cell_type": "markdown",
      "source": [
        "2.2 code and explanations below."
      ],
      "metadata": {
        "id": "QmotCSvVOX1R"
      },
      "id": "QmotCSvVOX1R"
    },
    {
      "cell_type": "code",
      "source": [
        "sharks = pd.read_csv('./assignment2/data/sharks.csv', low_memory=False)\n",
        "\n",
        "#Generally looking at data types\n",
        "print(sharks.dtypes, '\\n')"
      ],
      "metadata": {
        "colab": {
          "base_uri": "https://localhost:8080/"
        },
        "id": "uoIgFed7Oe3v",
        "outputId": "45ad57c4-4ad3-430e-f243-1429b5deb3d5"
      },
      "id": "uoIgFed7Oe3v",
      "execution_count": null,
      "outputs": [
        {
          "output_type": "stream",
          "name": "stdout",
          "text": [
            "index             int64\n",
            "Case Number      object\n",
            "Date             object\n",
            "Year            float64\n",
            "Type             object\n",
            "                 ...   \n",
            "Unnamed: 251    float64\n",
            "Unnamed: 252    float64\n",
            "Unnamed: 253    float64\n",
            "Unnamed: 254    float64\n",
            "Unnamed: 255    float64\n",
            "Length: 257, dtype: object \n",
            "\n"
          ]
        }
      ]
    },
    {
      "cell_type": "code",
      "source": [
        "#looking at what kinds of values are in Type column\n",
        "print(sharks['Type'].unique(), '\\n')"
      ],
      "metadata": {
        "colab": {
          "base_uri": "https://localhost:8080/"
        },
        "id": "mtRd139yOjto",
        "outputId": "44e566de-a8f3-492d-afc1-c03bd55e325a"
      },
      "id": "mtRd139yOjto",
      "execution_count": null,
      "outputs": [
        {
          "output_type": "stream",
          "name": "stdout",
          "text": [
            "['Unprovoked' 'Provoked' 'Questionable' 'Watercraft' 'Unconfirmed'\n",
            " 'Unverified' 'Invalid' 'Under investigation' 'Boating' 'Sea Disaster' nan\n",
            " 'Boat' 'Boatomg'] \n",
            "\n"
          ]
        }
      ]
    },
    {
      "cell_type": "code",
      "source": [
        "#I am making it so anything that doesn't indicate that the attack definitely happened a missing value\n",
        "sharks['Type'] = sharks['Type'].replace(['Questionable', 'Unconfirmed', 'Unverified', 'Invalid', 'Under investigation'], np.nan)"
      ],
      "metadata": {
        "id": "Ey8NBWlPOmdL"
      },
      "id": "Ey8NBWlPOmdL",
      "execution_count": null,
      "outputs": []
    },
    {
      "cell_type": "code",
      "source": [
        "#I am making it so that boating types of incidences are all the same... watercraft/boating/boat should be the same\n",
        "#I am keeping sea disaster because that could involve something that is not a boat (i.e. swimming, airplane crash?)\n",
        "sharks['Type'] = sharks['Type'].replace({\n",
        "    'Boatomg': 'Boating',\n",
        "    'Watercraft': 'Boating',  # Combine similar categories\n",
        "    'Boat': 'Boating'\n",
        "})"
      ],
      "metadata": {
        "id": "-YwhKkZBOpu8"
      },
      "id": "-YwhKkZBOpu8",
      "execution_count": null,
      "outputs": []
    },
    {
      "cell_type": "markdown",
      "source": [
        "2.3 code and explanations below"
      ],
      "metadata": {
        "id": "EGFc0Z8OOrS4"
      },
      "id": "EGFc0Z8OOrS4"
    },
    {
      "cell_type": "code",
      "source": [
        "url = 'http://www.vcsc.virginia.gov/pretrialdataproject/October%202017%20Cohort_Virginia%20Pretrial%20Data%20Project_Deidentified%20FINAL%20Update_10272021.csv'\n",
        "pretrial = pd.read_csv(url,low_memory=False)"
      ],
      "metadata": {
        "id": "JjUIb1RXHEaN"
      },
      "id": "JjUIb1RXHEaN",
      "execution_count": null,
      "outputs": []
    },
    {
      "cell_type": "code",
      "source": [
        "#looking at what kinds of values are in the WhetherDefendantWasReleasedPretrial column\n",
        "print(pretrial['WhetherDefendantWasReleasedPretrial'].unique(), '\\n')"
      ],
      "metadata": {
        "id": "XW0zllLrwPWl",
        "outputId": "3081ebf7-2719-44ea-bf05-6a3134d52d00",
        "colab": {
          "base_uri": "https://localhost:8080/"
        }
      },
      "id": "XW0zllLrwPWl",
      "execution_count": null,
      "outputs": [
        {
          "output_type": "stream",
          "name": "stdout",
          "text": [
            "[9 0 1] \n",
            "\n"
          ]
        }
      ]
    },
    {
      "cell_type": "code",
      "source": [
        "print(pretrial.dtypes, '\\n')"
      ],
      "metadata": {
        "id": "eVo3vABPvNVF",
        "outputId": "36899e23-4333-4cfc-c0ea-b4a4978acb9f",
        "colab": {
          "base_uri": "https://localhost:8080/"
        }
      },
      "id": "eVo3vABPvNVF",
      "execution_count": null,
      "outputs": [
        {
          "output_type": "stream",
          "name": "stdout",
          "text": [
            "InternalStudyID                                                 object\n",
            "REQ_REC#                                                        object\n",
            "Defendant_Sex                                                   object\n",
            "Defendant_Race                                                  object\n",
            "Defendant_BirthYear                                             object\n",
            "                                                                 ...  \n",
            "NewFelonySexualAssaultArrest_Disposition                        object\n",
            "Intertnalindicator_ReasonforExcludingFromFollowUpAnalysis        int64\n",
            "CriminalHistoryRecordsReturnedorCMSRecordsFoundforIndividual    object\n",
            "DispRecordFoundforChargesinOct2017Contact_Atleast1dispfound      int64\n",
            "CrimeCommission2021ReportClassificationofDefendants             object\n",
            "Length: 709, dtype: object \n",
            "\n"
          ]
        }
      ]
    },
    {
      "cell_type": "code",
      "source": [
        "#Based on the codebook:\n",
        "#code 9 means unclear, so I will replace this with missing since it's not definitive information\n",
        "#code 1 means released\n",
        "#code 0 means not released\n",
        "\n",
        "pretrial['WhetherDefendantWasReleasedPretrial'] = pretrial['WhetherDefendantWasReleasedPretrial'].replace( [9], np.nan)"
      ],
      "metadata": {
        "id": "f-ZJ_wS_Ovue"
      },
      "id": "f-ZJ_wS_Ovue",
      "execution_count": null,
      "outputs": []
    },
    {
      "cell_type": "code",
      "source": [
        "#Renaming this variable to make more sense/readable and not be ~10 syllables (ugh no thanks that's a mouthful)\n",
        "pretrial = pretrial.rename(columns = {'WhetherDefendantWasReleasedPretrial':'released'}) # Rename variables"
      ],
      "metadata": {
        "id": "BSzSOISSCsEL"
      },
      "id": "BSzSOISSCsEL",
      "execution_count": null,
      "outputs": []
    },
    {
      "cell_type": "code",
      "source": [
        "#I considered changing 0s and 1s to be False and True so\n",
        "#that answering the question \"Was the defendant released pretrial?\" makes more sense.\n",
        "#However, that really is the same thing as 0 and 1 because of the concept of a dummy variable and the binary\n",
        "#representation of True/False is 1/0."
      ],
      "metadata": {
        "id": "PBql59Oq_oed"
      },
      "id": "PBql59Oq_oed",
      "execution_count": null,
      "outputs": []
    },
    {
      "cell_type": "markdown",
      "source": [
        "Missing values, not at random: For the pretrial data covered in the lecture, clean the ImposedSentenceAllChargeInContactEvent variable as well as you can, and explain the choices you make. (Hint: Look at the SentenceTypeAllChargesAtConvictionInContactEvent variable.)"
      ],
      "metadata": {
        "id": "PWAsfB7CAI3q"
      },
      "id": "PWAsfB7CAI3q"
    },
    {
      "cell_type": "markdown",
      "source": [
        "2.4 code and explanations below:"
      ],
      "metadata": {
        "id": "S1ACoxHjPBcq"
      },
      "id": "S1ACoxHjPBcq"
    },
    {
      "cell_type": "code",
      "source": [
        "#Renaming variables for same reason as in 2.3, making it easier to use/read\n",
        "pretrial = pretrial.rename(columns = {'ImposedSentenceAllChargeInContactEvent':'sentence_length',\n",
        "                                      'SentenceTypeAllChargesAtConvictionInContactEvent': 'sentence_type'}) # Rename variables"
      ],
      "metadata": {
        "id": "SKDQjhEBEpDm"
      },
      "id": "SKDQjhEBEpDm",
      "execution_count": null,
      "outputs": []
    },
    {
      "cell_type": "code",
      "source": [
        "#Gathering an idea of what both columns are\n",
        "print(pretrial['sentence_length'].unique(), '\\n')"
      ],
      "metadata": {
        "id": "k9VOsH6OOxet",
        "outputId": "760af41d-6965-495e-c3ae-3881d789a202",
        "colab": {
          "base_uri": "https://localhost:8080/"
        }
      },
      "id": "k9VOsH6OOxet",
      "execution_count": null,
      "outputs": [
        {
          "output_type": "stream",
          "name": "stdout",
          "text": [
            "[' ' '60' '12' '.985626283367556' '36' '6' '24' '5.91375770020534' '120'\n",
            " '72' '11.9917864476386' '0' '2.95687885010267' '84' '108' '300' '240'\n",
            " '180' '4' '96' '2' '54' '.328542094455852' '44' '5' '115' '132' '48'\n",
            " '258' '34' '76' '.164271047227926' '.131416837782341' '111' '9' '3'\n",
            " '1.97125256673511' '36.9856262833676' '.0657084188911704'\n",
            " '35.4928131416838' '106.492813141684' '8' '35' '18.3141683778234' '480'\n",
            " '32' '93' '234' '732' '1.16427104722793' '4.6570841889117' '21' '7'\n",
            " '4.49281314168378' '18' '600' '43.1642710472279' '179' '52' '30' '20'\n",
            " '192' '702' '14' '55' '53' '11.9055441478439' '114' '35.0061601642711'\n",
            " '68' '.657084188911704' '46.6242299794661' '102' '65' '200' '57'\n",
            " '24.3285420944559' '12.1642710472279' '117' '81.4928131416838'\n",
            " '22.4928131416838' '1980' '3.6570841889117' '56' '10' '2.79260780287474'\n",
            " '1' '47' '22' '1500' '40' '284' '11' '118' '42' '162' '156'\n",
            " '47.2956878850103' '105' '51' '246' '29' '75' '324' '360'\n",
            " '34.4804928131417' '120.328542094456' '59.9260780287474' '66'\n",
            " '59.9917864476386' '660' '51.1642710472279' '14.9568788501027'\n",
            " '3.98562628336756' '78' '228' '1.47843942505133' '62' '4.8' '86' '168'\n",
            " '23' '33' '48.0328542094456' '720' '348' '1200' '27' '49' '87' '420' '63'\n",
            " '79.9260780287474' '57.0349075975359' '49.9712525667351'\n",
            " '59.4928131416838' '17' '238.492813141684' '60.9856262833676' '126' '45'\n",
            " '158' '216' '227' '42.9568788501027' '445' '70.952772073922' '516'\n",
            " '177.82135523614' '1752' '90' '1080' '141' '4.82956878850103' '230' '31'\n",
            " '2208' '52.5133470225873' '69' '26' '33.4928131416838' '140' '131' '344'\n",
            " '219' '101' '71' '59' '58' '120.197125256674' '67' '35.4004106776181'\n",
            " '3.28542094455852' '40.1642710472279' '91' '1.7741273100616' '155'\n",
            " '34.4928131416838' '81' '92.3285420944559' '3.5482546201232' '207' '74'\n",
            " '518' '28' '8.95687885010267' '237' '404.673511293634' '18.1642710472279'\n",
            " '10.7433264887064' '551' '39' '15' '124' '43' '176' '19.4928131416838'\n",
            " '482' '129' '88' '46' '45.8542094455852' '128.628336755647'\n",
            " '136.492813141684' '108.328542094456' '50' '363.663244353183' '288' '250'\n",
            " '107' '81.0225872689938' '444' '205' '10.6570841889117' '19'\n",
            " '66.9856262833676' '38.4928131416838' '264' '276' '173' '222' '144' '294'\n",
            " '336' '431' '450' '73' '99.3285420944559' '128' '30.8069815195072'\n",
            " '31.5256673511294' '127' '202' '55.3285420944559' '89' '242'\n",
            " '1.31416837782341' '1029' '.788501026694045' '194.858316221766' '399'\n",
            " '39.6570841889117' '56.95687885' '198' '120.985626283368'\n",
            " '47.6570841889117' '148' '6.8993839835729' '65.3285420944559'\n",
            " '5.95277207392197' '.0985626283367557' '3.32854209445585'\n",
            " '3.94250513347023' '12.9856262833676' '6.98562628336756'\n",
            " '13.1498973305955' '15.1642710472279' '17.1971252566735'\n",
            " '17.9137577002053' '104' '212' '24.6570841889117' '72.6570841889117'\n",
            " '2.98562628336756' '144.985626283368' '31.9712525667351' '183'\n",
            " '4.98562628336756' '11.8213552361396' '252' '12.394250513347'\n",
            " '42.4928131416838' '10.1642710472279' '11.1642710472279'\n",
            " '5.49281314168378' '59.6632443531827' '12.3285420944559'\n",
            " '48.9856262833676' '240.985626283368' '2.6570841889117' '540'\n",
            " '2.97125256673511' '6.32854209445585' '23.6632443531828'\n",
            " '133.657084188912' '35.3285420944559' '456' '103' '1.72279260780287'\n",
            " '12.6570841889117' '11.6570841889117' '60.3285420944559'\n",
            " '3.78850102669405' '576' '2.13141683778234' '492' '14.9856262833676'\n",
            " '24.9856262833676' '61.9712525667351' '5.6570841889117' '16'\n",
            " '42.1642710472279' '.492813141683778' '138' '13.3141683778234'\n",
            " '11.8932238193018' '5.32854209445585' '95' '62.6570841889117'\n",
            " '3.08829568788501' '11.8275154004107' '1.64271047227926'\n",
            " '47.9917864476386' '4.27104722792608' '8.32854209445585'\n",
            " '3.31416837782341' '70' '77' '1.09856262833676' '48.1642710472279'\n",
            " '27.4928131416838' '6.93839835728953' '1011' '.68993839835729'\n",
            " '1.1170431211499' '1.49281314168378' '4.16427104722793'\n",
            " '1.19712525667351' '4.07392197125257' '188' '11.3285420944559'\n",
            " '.0328542094455852' '432' '11.952772073922' '36.4928131416838'\n",
            " '23.9835728952772' '9.98562628336756' '98' '36.3285420944559' '112'\n",
            " '.394250513347023' '13' '.262833675564682' '13.7987679671458'\n",
            " '5.8870636550308' '354' '5.91991786447639' '24.1642710472279'\n",
            " '62.95687885' '4.59958932238193' '123' '2.32854209445585'\n",
            " '23.9240246406571' '204' '197' '174' '16.1498973305955' '840' '440'\n",
            " '98.95687885' '17.952772073922' '63.9425051334702' '60.1314168377823'\n",
            " '12.1314168377823' '172.952772073922' '.197125256673511'\n",
            " '138.164271047228' '4.92813141683778' '.919917864476386'\n",
            " '18.9856262833676' '6.6570841889117' '2.85420944558522'\n",
            " '8.91375770020534' '146' '12.4928131416838' '.558521560574949'\n",
            " '.722792607802875' '5.82135523613963' '84.9856262833676'\n",
            " '6.16427104722793' '15.9856262833676' '64.5585215605749'\n",
            " '38.299794661191' '11.958932238193' '3.1211498973306' '126.328542094456'\n",
            " '5.16427104722793' '64' '42.6570841889117' '312' '19.9712525667351'\n",
            " '82.3285420944559' '23.9712525667351' '17.6242299794661'\n",
            " '121.971252566735' '59.6550308008214' '1.32854209445585'\n",
            " '7.97125256673511' '1.91991786447639' '.525667351129363'\n",
            " '9.32854209445585' '42.9856262833676' '41.9137577002053'\n",
            " '72.9856262833676' '12.4784394250513' '5.19096509240246' '473'\n",
            " '16.6570841889117' '109' '86.3285420944559' '41' '1.90554414784394'\n",
            " '94.1642710472279' '302' '4.39425051334702' '10.8213552361396'\n",
            " '18.3285420944559' '154' '83' '110.956878850103' '226' '96.0328542094456'\n",
            " '4.82135523613963' '30.3285420944559' '37.9712525667351'\n",
            " '50.4640657084189' '286' '99' '99.4928131416838' '2.6611909650924'\n",
            " '70.9712525667351' '13.9712525667351' '23.6570841889117'\n",
            " '.459958932238193' '132.492813141684' '283' '49.3141683778234'\n",
            " '27.9856262833676' '38' '7.6570841889117' '83.6550308008214'\n",
            " '10.9199178644764' '162.328542094456' '37' '132.328542094456'\n",
            " '35.952772073922' '165' '10.9856262833676' '20.1642710472279'\n",
            " '2.59137577002053' '175' '180.985626283368' '10.3285420944559'\n",
            " '36.1642710472279' '120.657084188912' '232' '152' '8.98562628336756'\n",
            " '167' '11.0657084188912' '11.2032854209446' '5.19712525667351'\n",
            " '3.16427104722793' '60.1642710472279' '1.18275154004107'\n",
            " '21.1642710472279' '2.19712525667351' '4.19712525667351'\n",
            " '2.62833675564682' '119.952772073922' '119.958932238193'\n",
            " '9.49281314168378' '5.25667351129363' '15.3285420944559'\n",
            " '2.82135523613963' '192.985626283368' '48.6570841889117'\n",
            " '5.95687885010267' '2.29979466119097' '960' '2.36550308008214' '116'\n",
            " '19.5133470225873' '1.6570841889117'] \n",
            "\n"
          ]
        }
      ]
    },
    {
      "cell_type": "code",
      "source": [
        "print(pretrial['sentence_type'].unique(), '\\n')"
      ],
      "metadata": {
        "colab": {
          "base_uri": "https://localhost:8080/"
        },
        "id": "bKYa5kGGPFKl",
        "outputId": "ad4c916e-5466-4afe-f427-ef3ad017809c"
      },
      "id": "bKYa5kGGPFKl",
      "execution_count": null,
      "outputs": [
        {
          "output_type": "stream",
          "name": "stdout",
          "text": [
            "[9 0 1 4 2] \n",
            "\n"
          ]
        }
      ]
    },
    {
      "cell_type": "code",
      "source": [
        "#I am replacing sentence_type code 9 (unknown) with np.nan to represent missing values\n",
        "pretrial['sentence_type'] = pretrial['sentence_type'].replace([9], np.nan)"
      ],
      "metadata": {
        "id": "ok2W2gWrDeTo"
      },
      "id": "ok2W2gWrDeTo",
      "execution_count": null,
      "outputs": []
    },
    {
      "cell_type": "code",
      "source": [
        "#I am converting to an actual number variable for sentence_length instead of strings\n",
        "pretrial['sentence_length'] = pretrial['sentence_length'].astype(np.float64)"
      ],
      "metadata": {
        "id": "4xVJ1zvbWq3H"
      },
      "id": "4xVJ1zvbWq3H",
      "execution_count": null,
      "outputs": []
    },
    {
      "cell_type": "code",
      "source": [
        "#I am replacing all values in sentence_length with 0 if they have a sentence_type of 4.\n",
        "#If the code is 4, then the case was dismissed/deferred, which means the sentence length was 0.\n",
        "pretrial.loc[pretrial['sentence_type'] == 4, 'sentence_length'] = 0"
      ],
      "metadata": {
        "id": "nh9_46b7WFYG"
      },
      "id": "nh9_46b7WFYG",
      "execution_count": null,
      "outputs": []
    },
    {
      "cell_type": "code",
      "source": [
        "#I am replacing all values in sentence_length to missing if the value of sentence_type is also missing because it wouldn't make sense to then know the sentence length.\n",
        "pretrial.loc[pretrial['sentence_type'] == np.nan, 'sentence_length'] = np.nan"
      ],
      "metadata": {
        "id": "Tlg2CVb1WRp3"
      },
      "id": "Tlg2CVb1WRp3",
      "execution_count": null,
      "outputs": []
    },
    {
      "cell_type": "code",
      "source": [
        "#I noticed there are a couple empty strings in sentence_length so I'm going to replace those with na\n",
        "pretrial['sentence_length'] = pretrial['sentence_length'].replace(\" \", np.nan)"
      ],
      "metadata": {
        "id": "FRdV6Zo7EfCk"
      },
      "id": "FRdV6Zo7EfCk",
      "execution_count": null,
      "outputs": []
    },
    {
      "cell_type": "markdown",
      "id": "c11bcd96-2834-41a4-80fe-d354b4277fd9",
      "metadata": {
        "id": "c11bcd96-2834-41a4-80fe-d354b4277fd9"
      },
      "source": [
        "**Q3.** This question provides some practice doing exploratory data analysis and visualization.\n",
        "\n",
        "The \"relevant\" variables for this question are:\n",
        "  - `level` - Level of institution (4-year, 2-year)\n",
        "  - `aid_value` - The average amount of student aid going to undergraduate recipients\n",
        "  - `control` - Public, Private not-for-profit, Private for-profit\n",
        "  - `grad_100_value` - percentage of first-time, full-time, degree-seeking undergraduates who complete a degree or certificate program within 100 percent of expected time (bachelor's-seeking group at 4-year institutions)\n",
        "\n",
        "1. Load the `./data/college_completion.csv` data with Pandas.\n",
        "2. What are are the dimensions of the data? How many observations are there? What are the variables included? Use `.head()` to examine the first few rows of data.\n",
        "3. Cross tabulate `control` and `level`. Describe the patterns you see.\n",
        "4. For `grad_100_value`, create a histogram, kernel density plot, boxplot, and statistical description.\n",
        "5. For `grad_100_value`, create a grouped kernel density plot by `control` and by `level`. Describe what you see. Use `groupby` and `.describe` to make grouped calculations of statistical descriptions of `grad_100_value` by `level` and `control`. Which institutions appear to have the best graduation rates?\n",
        "6. Create a new variable, `df['levelXcontrol']=df['level']+', '+df['control']` that interacts level and control. Make a grouped kernel density plot. Which institutions appear to have the best graduation rates?\n",
        "7. Make a kernel density plot of `aid_value`. Notice that your graph is \"bi-modal\", having two little peaks that represent locally most common values. Now group your graph by `level` and `control`. What explains the bi-modal nature of the graph? Use `groupby` and `.describe` to make grouped calculations of statistical descriptions of `aid_value` by `level` and `control`.\n",
        "8. Make a scatterplot of `grad_100_value` by `aid_value`. Describe what you see. Now make the same plot, grouping by `level` and then `control`. Describe what you see. For which kinds of institutions does aid seem to increase graduation rates?"
      ]
    },
    {
      "cell_type": "markdown",
      "id": "98d34a3b-c21d-4dc9-a8d2-fb7686804ceb",
      "metadata": {
        "id": "98d34a3b-c21d-4dc9-a8d2-fb7686804ceb"
      },
      "source": [
        "**Q4.** This question uses the Airbnb data to practice making visualizations.\n",
        "\n",
        "  1. Load the `./data/airbnb_hw.csv` data with Pandas. You should have cleaned the `Price` variable in question 2, and you'll need it later for this question.\n",
        "  2. What are are the dimensions of the data? How many observations are there? What are the variables included? Use `.head()` to examine the first few rows of data.\n",
        "  3. Cross tabulate `Room Type` and `Property Type`. What patterns do you see in what kinds of rentals are available? For which kinds of properties are private rooms more common than renting the entire property?\n",
        "  4. For `Price`, make a histogram, kernel density, box plot, and a statistical description of the variable. Are the data badly scaled? Are there many outliers? Use `log` to transform price into a new variable, `price_log`, and take these steps again.\n",
        "  5. Make a scatterplot of `price_log` and `Beds`. Describe what you see. Use `.groupby()` to compute a desciption of `Price` conditional on/grouped by the number of beds. Describe any patterns you see in the average price and standard deviation in prices.\n",
        "  6. Make a scatterplot of `price_log` and `Beds`, but color the graph by `Room Type` and `Property Type`. What patterns do you see? Compute a description of `Price` conditional on `Room Type` and `Property Type`. Which Room Type and Property Type have the highest prices on average? Which have the highest standard deviation? Does the mean or median appear to be a more reliable estimate of central tendency, and explain why?\n",
        "  7. We've looked a bit at this `price_log` and `Beds` scatterplot. Use seaborn to make a `jointplot` with `kind=hex`. Where are the data actually distributed? How does it affect the way you think about the plots in 5 and 6?"
      ]
    },
    {
      "cell_type": "markdown",
      "id": "649494cd-cfd6-4f80-992a-9994fc19e1d5",
      "metadata": {
        "id": "649494cd-cfd6-4f80-992a-9994fc19e1d5"
      },
      "source": [
        "**Q5.** Many important datasets contain a race variable, typically limited to a handful of values often including Black, White, Asian, Latino, and Indigenous. This question looks at data gathering efforts on this variable by the U.S. Federal government.\n",
        "\n",
        "1. How did the most recent US Census gather data on race?\n",
        "2. Why do we gather these data? What role do these kinds of data play in politics and society? Why does data quality matter?\n",
        "3. Please provide a constructive criticism of how the Census was conducted: What was done well? What do you think was missing? How should future large scale surveys be adjusted to best reflect the diversity of the population? Could some of the Census' good practices be adopted more widely to gather richer and more useful data?\n",
        "4. How did the Census gather data on sex and gender? Please provide a similar constructive criticism of their practices.\n",
        "5. When it comes to cleaning data, what concerns do you have about protected characteristics like sex, gender, sexual identity, or race? What challenges can you imagine arising when there are missing values? What good or bad practices might people adopt, and why?\n",
        "6. Suppose someone invented an algorithm to impute values for protected characteristics like race, gender, sex, or sexuality. What kinds of concerns would you have?"
      ]
    },
    {
      "cell_type": "markdown",
      "source": [
        "1. The US Census has 3 main ways of collecting data: mail canvass, Internet collection, and central collection from state sources which vary by state. From these sources, a questionnaire allows for self-identification of five minimum categories (White, Black or African American, American Indian or Alaska Native, Asian, and Native Hawaiian or Other Pacific Islander) or “Other.”\n",
        "- Sources: https://www.census.gov/programs-surveys/gov-finances/technical-documentation/methodology/how-the-data-are-collected.html, https://www.census.gov/quickfacts/fact/note/US/RHI625222\n",
        "2. We gather these data to collect information about how various circumstances vary depending on race. For example, having this variable is pertinent for the government in deciding and analyzing concepts like resource allocation, economic trends, social justice, and overall accountability of policies. These data can play a role in politics and society by shining a light on the disparities in resources and facts depending on race. Recognizing and identifying where things are unequal is the first step in knowing where and how to fix these issues. Data quality matters to be able to correctly and confidently identify these disparities/differences across races. Without this assurance, policy makers could not be confident in their proposed changes.\n",
        "3. The Census did a good job of using state and local governments to send out questionnaires and collect any missing data. Dividing the outreach in this way ensures that the process is more organized, as each individual sector is responsible for collecting its responses. The federal government sending out mass questionnaires would probably not produce as accurate and comprehensive results. I believe that it was missing a way to gather data on individuals who may not have access to technology and have not officially documented their education/finances. This group could apply to those who are homeless or undocumented immigrants. To better reflect the diversity of the population, it could be a good idea for future large scale surveys to have more physical employees conduct information. For example, visiting communities in which many homeless people reside. They could expand on their good process of dividing up this data collection into state and local governments to send employees into underserved areas of that region. In addition, asking individuals to fit themselves into a socially-constructed idea of race can be restricting. People's self-identification of culture can vary widely. For example, someone who identifies as “American Indian” may not identify as “Alaska native,” though the option is “American Indian or Alaska native.” This is constraining—it could be a good idea to separate any categories that use “or” into two separate categories. It is good that they are currently allowing an “Other” option, though in the future, it is important that they continue to update their questionnaire based on how society is evolving in its conception of race. It is also good that they allow individuals to select multiple races to convey being mixed race.\n",
        "4. The Census collected the data on sex and gender in a similar method as race with the general questionnaires, etc. However, the questions asked were different to collect this specific data. The questions asked for gender identity were “What sex were you assigned at birth, on your original birth certificate?” with options “Male, Female” and “Do you currently describe yourself as male, female, or transgender?” with options “Male, Female, Transgender, None.” I think it is good that they are separating the questions about asking birth-assigned gender versus self-identification since they might be different classifications. However, the question asking about how an individual currently describes themselves is problematic because not everyone fits into the three categories offered. Having the fourth option be “None” is not sufficient for including a group of individuals who say, for example, don’t identify with any gender. It could be better to have that option be “Other” instead. As with the Race variable, it is important to continue to update the questions as the society evolves its conception of sex and gender.\n",
        "- Source: https://www.census.gov/library/visualizations/interactive/sexual-orientation-and-gender-identity.html\n",
        "5. When cleaning data, we are trying to make our data as easy to analyze as possible. These variables–sex, gender, sexual identity, and race–could have vastly different responses when leaving it open-ended. This could make it hard to graph and analyze data in which we cannot definitely know the information for a categorical variable. In addition, especially as time goes on, these ideas may change and our ways of shifting these data may be out-dated and need readjustment. Biases towards these social conceptions is also a huge concern. It is challenging when there are missing values because assigning someone a value of “nan” is equivalent to saying they have no race/gender/sex which is inaccurate. This brings up ethical concerns for deciding how to fit a human being into a category that we have created for them. People might adopt a bad practice of dropping individuals from their dataset that don’t perfectly fit a category to make it easier to manipulate and analyze. This is problematic because they are then losing data points. Alternatively, people might use good practices such as mitigating their biases while heavily documententing why they make their data cleaning choices. Having replicable results when cleaning these types of data is pertinent to ensuring it is unbiased—others can cross-validate your work and ensure one did not make socially-incorrect wrangling decisions.\n",
        "6. An algorithm designed to impute protected characteristics is at risk of making biases present in the training data much more exaggerated. This can lead to reinforcing stereotypes, and unfair treatment based on these characteristics. It is generally concerning to have algorithms look for patterns and similarities across these variables as it could easily lead to inaccurate results for an individual. Humans are much more complex than just their race, gender, sex, and sexuality. In addition, replicating this algorithm could raise privacy concerns for individuals in the training data.\n"
      ],
      "metadata": {
        "id": "Isdh95QOgFwT"
      },
      "id": "Isdh95QOgFwT"
    },
    {
      "cell_type": "markdown",
      "id": "2f38f2fd-6381-481d-bba9-017f3d363426",
      "metadata": {
        "id": "2f38f2fd-6381-481d-bba9-017f3d363426"
      },
      "source": [
        "**Q6.** Open the `./data/CBO_data.pdf` file. This contains tax data for 2019, explaining where the money comes from that the U.S. Federal Government Spends in terms of taxation on individuals/families and payroll taxes (the amount that your employer pays in taxes on your wages).\n",
        "\n",
        "For some context, the Federal government ultimately spent about $4.4 trillion in 2019, which was 21% of GDP (the total monetary value of all goods and services produced within the United States). Individual Income Taxes is the amount individuals pay on their wages to the Federal government, Corporate Income Taxes is the taxes individuals pay on capital gains from investment when they sell stock or other financial instruments, Payroll Taxes is the tax your employer pays on your wages, Excises and Customs Duties are taxes on goods or services like sin taxes on cigarettes or alcohol, and Estate and Gift Taxes are taxes paid on transfers of wealth to other people.\n",
        "\n",
        "1. Get the Millions of Families and Billions of Dollars data into a .csv file and load it with Pandas.\n",
        "2. Create a bar plot of individual income taxes by income decile. Explain what the graph shows. Why are some values negative?\n",
        "3. Create a bar plot of Total Federal Taxes by income decile. Which deciles are paying net positive amounts, and which are paying net negative amounts?\n",
        "4. Create a stacked bar plot for which Total Federal Taxes is grouped by Individual Income Taxes, Payroll Taxes, Excises and Customs Duties, and Estate and Gift Taxes. How does the share of taxes paid vary across the adjusted income deciles? (Hint: Are these the kind of data you want to melt?)\n",
        "5. Below the Total line for Millions of Families and Billions of Dollars, there are data for the richest of the richest families. Plot this alongside the bars for the deciles above the Total line. Describe your results.\n",
        "6. Get the Percent Distribution data into a .csv file and load it with Pandas. Create a bar graph of Total Federal Taxes by income decile.\n",
        "7. A tax system is progressive if higher-income and wealthier individuals pay more than lower-income and less wealthy individuals, and it is regressive if the opposite is true. Is the U.S. tax system progressive in terms of amount paid? In terms of the percentage of the overall total?\n",
        "8. Do the rich pay enough in taxes? Defend your answer."
      ]
    }
  ],
  "metadata": {
    "kernelspec": {
      "display_name": "Python 3 (ipykernel)",
      "language": "python",
      "name": "python3"
    },
    "language_info": {
      "codemirror_mode": {
        "name": "ipython",
        "version": 3
      },
      "file_extension": ".py",
      "mimetype": "text/x-python",
      "name": "python",
      "nbconvert_exporter": "python",
      "pygments_lexer": "ipython3",
      "version": "3.10.4"
    },
    "colab": {
      "provenance": []
    }
  },
  "nbformat": 4,
  "nbformat_minor": 5
}